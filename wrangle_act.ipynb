{
 "cells": [
  {
   "cell_type": "markdown",
   "id": "9a9ebdd4",
   "metadata": {},
   "source": [
    "# Wrangling act on Covid19 and Weather Data"
   ]
  },
  {
   "cell_type": "code",
   "execution_count": 1,
   "id": "95ba5c4f",
   "metadata": {},
   "outputs": [],
   "source": [
    "import numpy as np\n",
    "import pandas as pd\n",
    "import requests\n",
    "import datetime \n",
    "from bs4 import BeautifulSoup\n",
    "\n",
    "import configparser"
   ]
  },
  {
   "cell_type": "markdown",
   "id": "d68b5b0d",
   "metadata": {},
   "source": [
    "## Gathering Data\n",
    "### US Covid19 Data"
   ]
  },
  {
   "cell_type": "code",
   "execution_count": 32,
   "id": "acc4c1ba",
   "metadata": {
    "scrolled": false
   },
   "outputs": [
    {
     "data": {
      "text/html": [
       "<div>\n",
       "<style scoped>\n",
       "    .dataframe tbody tr th:only-of-type {\n",
       "        vertical-align: middle;\n",
       "    }\n",
       "\n",
       "    .dataframe tbody tr th {\n",
       "        vertical-align: top;\n",
       "    }\n",
       "\n",
       "    .dataframe thead th {\n",
       "        text-align: right;\n",
       "    }\n",
       "</style>\n",
       "<table border=\"1\" class=\"dataframe\">\n",
       "  <thead>\n",
       "    <tr style=\"text-align: right;\">\n",
       "      <th></th>\n",
       "      <th>submission_date</th>\n",
       "      <th>state</th>\n",
       "      <th>tot_cases</th>\n",
       "      <th>conf_cases</th>\n",
       "      <th>prob_cases</th>\n",
       "      <th>new_case</th>\n",
       "      <th>pnew_case</th>\n",
       "      <th>tot_death</th>\n",
       "      <th>conf_death</th>\n",
       "      <th>prob_death</th>\n",
       "      <th>new_death</th>\n",
       "      <th>pnew_death</th>\n",
       "      <th>created_at</th>\n",
       "      <th>consent_cases</th>\n",
       "      <th>consent_deaths</th>\n",
       "    </tr>\n",
       "  </thead>\n",
       "  <tbody>\n",
       "    <tr>\n",
       "      <th>0</th>\n",
       "      <td>12/01/2021</td>\n",
       "      <td>ND</td>\n",
       "      <td>163565</td>\n",
       "      <td>135705.0</td>\n",
       "      <td>27860.0</td>\n",
       "      <td>589</td>\n",
       "      <td>220.0</td>\n",
       "      <td>1907</td>\n",
       "      <td>NaN</td>\n",
       "      <td>NaN</td>\n",
       "      <td>9</td>\n",
       "      <td>0.0</td>\n",
       "      <td>12/02/2021 02:35:20 PM</td>\n",
       "      <td>Agree</td>\n",
       "      <td>Not agree</td>\n",
       "    </tr>\n",
       "    <tr>\n",
       "      <th>1</th>\n",
       "      <td>08/17/2020</td>\n",
       "      <td>MD</td>\n",
       "      <td>100715</td>\n",
       "      <td>NaN</td>\n",
       "      <td>NaN</td>\n",
       "      <td>503</td>\n",
       "      <td>0.0</td>\n",
       "      <td>3765</td>\n",
       "      <td>3616.0</td>\n",
       "      <td>149.0</td>\n",
       "      <td>3</td>\n",
       "      <td>0.0</td>\n",
       "      <td>08/19/2020 12:00:00 AM</td>\n",
       "      <td>NaN</td>\n",
       "      <td>Agree</td>\n",
       "    </tr>\n",
       "  </tbody>\n",
       "</table>\n",
       "</div>"
      ],
      "text/plain": [
       "  submission_date state  tot_cases  conf_cases  prob_cases  new_case  \\\n",
       "0      12/01/2021    ND     163565    135705.0     27860.0       589   \n",
       "1      08/17/2020    MD     100715         NaN         NaN       503   \n",
       "\n",
       "   pnew_case  tot_death  conf_death  prob_death  new_death  pnew_death  \\\n",
       "0      220.0       1907         NaN         NaN          9         0.0   \n",
       "1        0.0       3765      3616.0       149.0          3         0.0   \n",
       "\n",
       "               created_at consent_cases consent_deaths  \n",
       "0  12/02/2021 02:35:20 PM         Agree      Not agree  \n",
       "1  08/19/2020 12:00:00 AM           NaN          Agree  "
      ]
     },
     "execution_count": 32,
     "metadata": {},
     "output_type": "execute_result"
    }
   ],
   "source": [
    "us_covid = pd.read_csv('us_covid.csv')\n",
    "us_covid.head(2)"
   ]
  },
  {
   "cell_type": "markdown",
   "id": "70c62dcf",
   "metadata": {},
   "source": [
    "### US States Data"
   ]
  },
  {
   "cell_type": "code",
   "execution_count": 33,
   "id": "cc1a7f57",
   "metadata": {},
   "outputs": [],
   "source": [
    "us_states = ['AL', 'AK', 'AZ', 'AR', 'CA', 'CO', 'CT', 'DE', 'FL', 'GA', 'HI',\n",
    "       'ID', 'IL', 'IN', 'IA', 'KS', 'KY', 'LA', 'ME', 'MD', 'MA', 'MI',\n",
    "       'MN', 'MS', 'MO', 'MT', 'NE', 'NV', 'NH', 'NJ', 'NM', 'NY', 'NC',\n",
    "       'ND', 'OH', 'OK', 'OR', 'PA', 'RI', 'SC', 'SD', 'TN', 'TX', 'UT',\n",
    "       'VT', 'VA', 'WA', 'WV', 'WI', 'WY']"
   ]
  },
  {
   "cell_type": "code",
   "execution_count": 34,
   "id": "24e9d7aa",
   "metadata": {},
   "outputs": [],
   "source": [
    "response = requests.get('https://vanwilson.info/2014/11/sample-zip-codes-50-states/')\n",
    "soup = BeautifulSoup(response.content, 'lxml')"
   ]
  },
  {
   "cell_type": "code",
   "execution_count": 35,
   "id": "de87041a",
   "metadata": {},
   "outputs": [],
   "source": [
    "city = []\n",
    "state = []\n",
    "abbr = []\n",
    "zip_code = []\n",
    "        \n",
    "for row in soup.find_all('table')[0].tbody.find_all('tr'):\n",
    "\n",
    "        col = row.find_all('td')\n",
    "        if col[2].text in us_states:\n",
    "            city.append(col[0].text)\n",
    "            state.append(col[1].text)\n",
    "            abbr.append(col[2].text)\n",
    "            zip_code.append(col[3].text)\n",
    "            \n",
    "states = pd.DataFrame({'capital_city':city, 'state':abbr, 'state_full_name':state, 'zip_code':zip_code})    "
   ]
  },
  {
   "cell_type": "code",
   "execution_count": 36,
   "id": "3732a600",
   "metadata": {
    "scrolled": false
   },
   "outputs": [
    {
     "data": {
      "text/html": [
       "<div>\n",
       "<style scoped>\n",
       "    .dataframe tbody tr th:only-of-type {\n",
       "        vertical-align: middle;\n",
       "    }\n",
       "\n",
       "    .dataframe tbody tr th {\n",
       "        vertical-align: top;\n",
       "    }\n",
       "\n",
       "    .dataframe thead th {\n",
       "        text-align: right;\n",
       "    }\n",
       "</style>\n",
       "<table border=\"1\" class=\"dataframe\">\n",
       "  <thead>\n",
       "    <tr style=\"text-align: right;\">\n",
       "      <th></th>\n",
       "      <th>capital_city</th>\n",
       "      <th>state</th>\n",
       "      <th>state_full_name</th>\n",
       "      <th>zip_code</th>\n",
       "    </tr>\n",
       "  </thead>\n",
       "  <tbody>\n",
       "    <tr>\n",
       "      <th>0</th>\n",
       "      <td>Montgomery</td>\n",
       "      <td>AL</td>\n",
       "      <td>Alabama</td>\n",
       "      <td>36104</td>\n",
       "    </tr>\n",
       "    <tr>\n",
       "      <th>1</th>\n",
       "      <td>Juneau</td>\n",
       "      <td>AK</td>\n",
       "      <td>Alaska</td>\n",
       "      <td>99801</td>\n",
       "    </tr>\n",
       "  </tbody>\n",
       "</table>\n",
       "</div>"
      ],
      "text/plain": [
       "  capital_city state state_full_name zip_code\n",
       "0   Montgomery    AL         Alabama    36104\n",
       "1       Juneau    AK          Alaska    99801"
      ]
     },
     "execution_count": 36,
     "metadata": {},
     "output_type": "execute_result"
    }
   ],
   "source": [
    "states.head(2)"
   ]
  },
  {
   "cell_type": "markdown",
   "id": "1fbf3e9f",
   "metadata": {},
   "source": [
    "### US Weather Data"
   ]
  },
  {
   "cell_type": "code",
   "execution_count": 8,
   "id": "7f54512e",
   "metadata": {},
   "outputs": [],
   "source": [
    "config = configparser.ConfigParser()\n",
    "config.read('config.cfg')\n",
    "\n",
    "api_key = config['WEATHER_BIT']['API_KEY']"
   ]
  },
  {
   "cell_type": "code",
   "execution_count": 9,
   "id": "1d82e576",
   "metadata": {},
   "outputs": [],
   "source": [
    "weather_url = 'https://api.weatherbit.io/v2.0/history/daily?key={api_key}&postal_code={postal_code}&country=US&start_date={start_date}&end_date={end_date}'\n",
    "zip_codes = list(states.zip_code.values)"
   ]
  },
  {
   "cell_type": "code",
   "execution_count": 10,
   "id": "82eacdf5",
   "metadata": {},
   "outputs": [],
   "source": [
    "weather_columns = ['state', 'rh', 'max_wind_spd_ts', 't_ghi', 'max_wind_spd', 'solar_rad', 'wind_gust_spd', \n",
    "                   'max_temp_ts', 'min_temp_ts', 'clouds', 'max_dni', 'precip_gpm', 'wind_spd', 'slp', 'ts', \n",
    "                   'max_ghi', 'temp', 'pres', 'dni', 'dewpt', 'snow', 'dhi', 'precip', 'wind_dir', 'max_dhi', \n",
    "                   'ghi', 'max_temp', 't_dni', 'max_uv', 't_dhi', 'datetime', 't_solar_rad', 'min_temp', \n",
    "                   'max_wind_dir', 'snow_depth']\n",
    "weather_data = pd.DataFrame(columns=weather_columns)"
   ]
  },
  {
   "cell_type": "code",
   "execution_count": 69,
   "id": "5b740451",
   "metadata": {
    "scrolled": true
   },
   "outputs": [],
   "source": [
    "# # Downloading data from weatherbit url\n",
    "# covid_state_date = datetime.date.fromisoformat('2020-01-22')\n",
    "# covid_end_date = datetime.date.fromisoformat('2022-03-01') + datetime.timedelta(days=1)\n",
    "\n",
    "# for zip_code in zip_codes[38:]:\n",
    "#     print(zip_code)\n",
    "#     start_date = covid_state_date\n",
    "#     end_date = start_date + datetime.timedelta(days=30)\n",
    "    \n",
    "#     while end_date < covid_end_date: \n",
    "#         url = weather_url.format(api_key=api_key, \n",
    "#                                  postal_code=zip_code, \n",
    "#                                  start_date=start_date, \n",
    "#                                  end_date=end_date)\n",
    "        \n",
    "#         response = requests.get(url)\n",
    "        \n",
    "#         if response.status_code == 200:\n",
    "#             response = response.json()\n",
    "            \n",
    "#             for data in response['data']:\n",
    "#                 data['state'] = response['state_code']\n",
    "#                 weather_data = weather_data.append(data, ignore_index=True)\n",
    "                \n",
    "#         else:\n",
    "#             raise Exception(response.text)\n",
    "            \n",
    "#         start_date = end_date\n",
    "#         end_date = start_date + datetime.timedelta(days=30)\n",
    "        \n",
    "    \n",
    "#     if start_date < covid_end_date:\n",
    "#         url = weather_url.format(api_key=api_key, \n",
    "#                                  postal_code=zip_code, \n",
    "#                                  start_date=start_date, \n",
    "#                                  end_date=covid_end_date)\n",
    "\n",
    "#         response = requests.get(url)\n",
    "\n",
    "#         if response.status_code == 200:\n",
    "#             response = response.json()\n",
    "\n",
    "#             for data in response['data']:\n",
    "#                 data['state'] = response['state_code']\n",
    "#                 weather_data = weather_data.append(data, ignore_index=True)\n",
    "                \n",
    "#         else:\n",
    "#             raise Exception(response.text)"
   ]
  },
  {
   "cell_type": "code",
   "execution_count": 67,
   "id": "f6ad2241",
   "metadata": {},
   "outputs": [],
   "source": [
    "weather_data.to_csv('weather_raw.csv', index=False)"
   ]
  },
  {
   "cell_type": "code",
   "execution_count": 11,
   "id": "b47cfb56",
   "metadata": {},
   "outputs": [],
   "source": [
    "# Alternative fetch from local_drive\n",
    "weather_data = pd.read_csv('weather_raw.csv')"
   ]
  },
  {
   "cell_type": "code",
   "execution_count": 14,
   "id": "ff171db1",
   "metadata": {},
   "outputs": [
    {
     "data": {
      "text/html": [
       "<div>\n",
       "<style scoped>\n",
       "    .dataframe tbody tr th:only-of-type {\n",
       "        vertical-align: middle;\n",
       "    }\n",
       "\n",
       "    .dataframe tbody tr th {\n",
       "        vertical-align: top;\n",
       "    }\n",
       "\n",
       "    .dataframe thead th {\n",
       "        text-align: right;\n",
       "    }\n",
       "</style>\n",
       "<table border=\"1\" class=\"dataframe\">\n",
       "  <thead>\n",
       "    <tr style=\"text-align: right;\">\n",
       "      <th></th>\n",
       "      <th>state</th>\n",
       "      <th>rh</th>\n",
       "      <th>max_wind_spd_ts</th>\n",
       "      <th>t_ghi</th>\n",
       "      <th>max_wind_spd</th>\n",
       "      <th>solar_rad</th>\n",
       "      <th>wind_gust_spd</th>\n",
       "      <th>max_temp_ts</th>\n",
       "      <th>min_temp_ts</th>\n",
       "      <th>clouds</th>\n",
       "      <th>...</th>\n",
       "      <th>ghi</th>\n",
       "      <th>max_temp</th>\n",
       "      <th>t_dni</th>\n",
       "      <th>max_uv</th>\n",
       "      <th>t_dhi</th>\n",
       "      <th>datetime</th>\n",
       "      <th>t_solar_rad</th>\n",
       "      <th>min_temp</th>\n",
       "      <th>max_wind_dir</th>\n",
       "      <th>snow_depth</th>\n",
       "    </tr>\n",
       "  </thead>\n",
       "  <tbody>\n",
       "    <tr>\n",
       "      <th>0</th>\n",
       "      <td>AL</td>\n",
       "      <td>77.5</td>\n",
       "      <td>1640026800</td>\n",
       "      <td>3411.4</td>\n",
       "      <td>7.6</td>\n",
       "      <td>32.9</td>\n",
       "      <td>7.6</td>\n",
       "      <td>1640023200</td>\n",
       "      <td>1639987200</td>\n",
       "      <td>100</td>\n",
       "      <td>...</td>\n",
       "      <td>142.1</td>\n",
       "      <td>10.6</td>\n",
       "      <td>6547.6</td>\n",
       "      <td>1.0</td>\n",
       "      <td>776.5</td>\n",
       "      <td>2021-12-20</td>\n",
       "      <td>789.7</td>\n",
       "      <td>2.8</td>\n",
       "      <td>116.0</td>\n",
       "      <td>NaN</td>\n",
       "    </tr>\n",
       "    <tr>\n",
       "      <th>1</th>\n",
       "      <td>AL</td>\n",
       "      <td>88.0</td>\n",
       "      <td>1640077200</td>\n",
       "      <td>3411.3</td>\n",
       "      <td>5.4</td>\n",
       "      <td>29.4</td>\n",
       "      <td>5.4</td>\n",
       "      <td>1640124000</td>\n",
       "      <td>1640142000</td>\n",
       "      <td>89</td>\n",
       "      <td>...</td>\n",
       "      <td>142.1</td>\n",
       "      <td>9.4</td>\n",
       "      <td>6544.4</td>\n",
       "      <td>1.0</td>\n",
       "      <td>776.3</td>\n",
       "      <td>2021-12-21</td>\n",
       "      <td>705.5</td>\n",
       "      <td>3.9</td>\n",
       "      <td>154.0</td>\n",
       "      <td>NaN</td>\n",
       "    </tr>\n",
       "  </tbody>\n",
       "</table>\n",
       "<p>2 rows × 35 columns</p>\n",
       "</div>"
      ],
      "text/plain": [
       "  state    rh  max_wind_spd_ts   t_ghi  max_wind_spd  solar_rad  \\\n",
       "0    AL  77.5       1640026800  3411.4           7.6       32.9   \n",
       "1    AL  88.0       1640077200  3411.3           5.4       29.4   \n",
       "\n",
       "   wind_gust_spd  max_temp_ts  min_temp_ts  clouds  ...    ghi  max_temp  \\\n",
       "0            7.6   1640023200   1639987200     100  ...  142.1      10.6   \n",
       "1            5.4   1640124000   1640142000      89  ...  142.1       9.4   \n",
       "\n",
       "    t_dni  max_uv  t_dhi    datetime  t_solar_rad  min_temp  max_wind_dir  \\\n",
       "0  6547.6     1.0  776.5  2021-12-20        789.7       2.8         116.0   \n",
       "1  6544.4     1.0  776.3  2021-12-21        705.5       3.9         154.0   \n",
       "\n",
       "   snow_depth  \n",
       "0         NaN  \n",
       "1         NaN  \n",
       "\n",
       "[2 rows x 35 columns]"
      ]
     },
     "execution_count": 14,
     "metadata": {},
     "output_type": "execute_result"
    }
   ],
   "source": [
    "weather_data.head(2)"
   ]
  },
  {
   "cell_type": "markdown",
   "id": "2abb3a85",
   "metadata": {},
   "source": [
    "\n"
   ]
  },
  {
   "cell_type": "markdown",
   "id": "aaa67079",
   "metadata": {},
   "source": [
    "## Accessing Data"
   ]
  },
  {
   "cell_type": "markdown",
   "id": "7cc20463",
   "metadata": {},
   "source": [
    "### `us_covid` accessing"
   ]
  },
  {
   "cell_type": "code",
   "execution_count": 37,
   "id": "870ccb3a",
   "metadata": {
    "scrolled": true
   },
   "outputs": [
    {
     "name": "stdout",
     "output_type": "stream",
     "text": [
      "<class 'pandas.core.frame.DataFrame'>\n",
      "RangeIndex: 46140 entries, 0 to 46139\n",
      "Data columns (total 15 columns):\n",
      " #   Column           Non-Null Count  Dtype  \n",
      "---  ------           --------------  -----  \n",
      " 0   submission_date  46140 non-null  object \n",
      " 1   state            46140 non-null  object \n",
      " 2   tot_cases        46140 non-null  int64  \n",
      " 3   conf_cases       25104 non-null  float64\n",
      " 4   prob_cases       25032 non-null  float64\n",
      " 5   new_case         46140 non-null  int64  \n",
      " 6   pnew_case        42268 non-null  float64\n",
      " 7   tot_death        46140 non-null  int64  \n",
      " 8   conf_death       24760 non-null  float64\n",
      " 9   prob_death       24760 non-null  float64\n",
      " 10  new_death        46140 non-null  int64  \n",
      " 11  pnew_death       42253 non-null  float64\n",
      " 12  created_at       46140 non-null  object \n",
      " 13  consent_cases    38445 non-null  object \n",
      " 14  consent_deaths   39219 non-null  object \n",
      "dtypes: float64(6), int64(4), object(5)\n",
      "memory usage: 5.3+ MB\n"
     ]
    }
   ],
   "source": [
    "us_covid.info()"
   ]
  },
  {
   "cell_type": "markdown",
   "id": "b5d8bd98",
   "metadata": {},
   "source": [
    "Some datatypes are inconsistent:\n",
    "* `submission_data` and `created_at`: object instead of datetime\n",
    "* `conf_cases`, `prob_cases`, `pnew_case`, `conf_death`, `prob_death`, `pnew_death`: float instead of int. This would be because pandas int type has not representation of `np.nan` so the best alternative float type is used.\n",
    "\n",
    "\n",
    "We can also notice to missing values in `conf_cases`, `prob_cases`, `pnew_case`, `conf_death`, `prob_death`, `pnew_death`, `consent_cases` and `consent_deaths`.\n",
    "\n"
   ]
  },
  {
   "cell_type": "code",
   "execution_count": 38,
   "id": "17cfefd5",
   "metadata": {},
   "outputs": [
    {
     "data": {
      "text/html": [
       "<div>\n",
       "<style scoped>\n",
       "    .dataframe tbody tr th:only-of-type {\n",
       "        vertical-align: middle;\n",
       "    }\n",
       "\n",
       "    .dataframe tbody tr th {\n",
       "        vertical-align: top;\n",
       "    }\n",
       "\n",
       "    .dataframe thead th {\n",
       "        text-align: right;\n",
       "    }\n",
       "</style>\n",
       "<table border=\"1\" class=\"dataframe\">\n",
       "  <thead>\n",
       "    <tr style=\"text-align: right;\">\n",
       "      <th></th>\n",
       "      <th>tot_cases</th>\n",
       "      <th>conf_cases</th>\n",
       "      <th>prob_cases</th>\n",
       "      <th>new_case</th>\n",
       "      <th>pnew_case</th>\n",
       "      <th>tot_death</th>\n",
       "      <th>conf_death</th>\n",
       "      <th>prob_death</th>\n",
       "      <th>new_death</th>\n",
       "      <th>pnew_death</th>\n",
       "    </tr>\n",
       "  </thead>\n",
       "  <tbody>\n",
       "    <tr>\n",
       "      <th>count</th>\n",
       "      <td>4.614000e+04</td>\n",
       "      <td>2.510400e+04</td>\n",
       "      <td>25032.000000</td>\n",
       "      <td>46140.000000</td>\n",
       "      <td>42268.000000</td>\n",
       "      <td>46140.000000</td>\n",
       "      <td>24760.000000</td>\n",
       "      <td>24760.000000</td>\n",
       "      <td>46140.000000</td>\n",
       "      <td>42253.000000</td>\n",
       "    </tr>\n",
       "    <tr>\n",
       "      <th>mean</th>\n",
       "      <td>4.155611e+05</td>\n",
       "      <td>4.347998e+05</td>\n",
       "      <td>60944.166587</td>\n",
       "      <td>1700.025206</td>\n",
       "      <td>267.633671</td>\n",
       "      <td>7064.657867</td>\n",
       "      <td>7490.103433</td>\n",
       "      <td>809.153958</td>\n",
       "      <td>20.098006</td>\n",
       "      <td>2.053890</td>\n",
       "    </tr>\n",
       "    <tr>\n",
       "      <th>std</th>\n",
       "      <td>7.578479e+05</td>\n",
       "      <td>7.033883e+05</td>\n",
       "      <td>95243.169569</td>\n",
       "      <td>5415.766401</td>\n",
       "      <td>1363.801315</td>\n",
       "      <td>11574.205227</td>\n",
       "      <td>9533.162955</td>\n",
       "      <td>1213.854667</td>\n",
       "      <td>47.527956</td>\n",
       "      <td>27.843081</td>\n",
       "    </tr>\n",
       "    <tr>\n",
       "      <th>min</th>\n",
       "      <td>0.000000e+00</td>\n",
       "      <td>0.000000e+00</td>\n",
       "      <td>0.000000</td>\n",
       "      <td>-10199.000000</td>\n",
       "      <td>-171804.000000</td>\n",
       "      <td>0.000000</td>\n",
       "      <td>0.000000</td>\n",
       "      <td>0.000000</td>\n",
       "      <td>-352.000000</td>\n",
       "      <td>-2594.000000</td>\n",
       "    </tr>\n",
       "    <tr>\n",
       "      <th>25%</th>\n",
       "      <td>7.704500e+03</td>\n",
       "      <td>4.326350e+04</td>\n",
       "      <td>47.750000</td>\n",
       "      <td>28.000000</td>\n",
       "      <td>0.000000</td>\n",
       "      <td>152.000000</td>\n",
       "      <td>868.000000</td>\n",
       "      <td>0.000000</td>\n",
       "      <td>0.000000</td>\n",
       "      <td>0.000000</td>\n",
       "    </tr>\n",
       "    <tr>\n",
       "      <th>50%</th>\n",
       "      <td>1.266070e+05</td>\n",
       "      <td>1.941055e+05</td>\n",
       "      <td>12135.500000</td>\n",
       "      <td>393.000000</td>\n",
       "      <td>4.000000</td>\n",
       "      <td>2186.000000</td>\n",
       "      <td>3870.500000</td>\n",
       "      <td>230.000000</td>\n",
       "      <td>4.000000</td>\n",
       "      <td>0.000000</td>\n",
       "    </tr>\n",
       "    <tr>\n",
       "      <th>75%</th>\n",
       "      <td>5.163890e+05</td>\n",
       "      <td>6.014852e+05</td>\n",
       "      <td>91516.250000</td>\n",
       "      <td>1477.000000</td>\n",
       "      <td>178.000000</td>\n",
       "      <td>8930.250000</td>\n",
       "      <td>10467.250000</td>\n",
       "      <td>1094.000000</td>\n",
       "      <td>20.000000</td>\n",
       "      <td>1.000000</td>\n",
       "    </tr>\n",
       "    <tr>\n",
       "      <th>max</th>\n",
       "      <td>8.960997e+06</td>\n",
       "      <td>8.381196e+06</td>\n",
       "      <td>595837.000000</td>\n",
       "      <td>319809.000000</td>\n",
       "      <td>73735.000000</td>\n",
       "      <td>84700.000000</td>\n",
       "      <td>71408.000000</td>\n",
       "      <td>6259.000000</td>\n",
       "      <td>1178.000000</td>\n",
       "      <td>2919.000000</td>\n",
       "    </tr>\n",
       "  </tbody>\n",
       "</table>\n",
       "</div>"
      ],
      "text/plain": [
       "          tot_cases    conf_cases     prob_cases       new_case  \\\n",
       "count  4.614000e+04  2.510400e+04   25032.000000   46140.000000   \n",
       "mean   4.155611e+05  4.347998e+05   60944.166587    1700.025206   \n",
       "std    7.578479e+05  7.033883e+05   95243.169569    5415.766401   \n",
       "min    0.000000e+00  0.000000e+00       0.000000  -10199.000000   \n",
       "25%    7.704500e+03  4.326350e+04      47.750000      28.000000   \n",
       "50%    1.266070e+05  1.941055e+05   12135.500000     393.000000   \n",
       "75%    5.163890e+05  6.014852e+05   91516.250000    1477.000000   \n",
       "max    8.960997e+06  8.381196e+06  595837.000000  319809.000000   \n",
       "\n",
       "           pnew_case     tot_death    conf_death    prob_death     new_death  \\\n",
       "count   42268.000000  46140.000000  24760.000000  24760.000000  46140.000000   \n",
       "mean      267.633671   7064.657867   7490.103433    809.153958     20.098006   \n",
       "std      1363.801315  11574.205227   9533.162955   1213.854667     47.527956   \n",
       "min   -171804.000000      0.000000      0.000000      0.000000   -352.000000   \n",
       "25%         0.000000    152.000000    868.000000      0.000000      0.000000   \n",
       "50%         4.000000   2186.000000   3870.500000    230.000000      4.000000   \n",
       "75%       178.000000   8930.250000  10467.250000   1094.000000     20.000000   \n",
       "max     73735.000000  84700.000000  71408.000000   6259.000000   1178.000000   \n",
       "\n",
       "         pnew_death  \n",
       "count  42253.000000  \n",
       "mean       2.053890  \n",
       "std       27.843081  \n",
       "min    -2594.000000  \n",
       "25%        0.000000  \n",
       "50%        0.000000  \n",
       "75%        1.000000  \n",
       "max     2919.000000  "
      ]
     },
     "execution_count": 38,
     "metadata": {},
     "output_type": "execute_result"
    }
   ],
   "source": [
    "us_covid.describe()"
   ]
  },
  {
   "cell_type": "markdown",
   "id": "05b68c89",
   "metadata": {},
   "source": [
    "We have negative `new_case`, `pnew_case`, `new_death` and `pnew_death`. \n",
    "\n",
    "Drilling in a bit on the negative values in the columns above."
   ]
  },
  {
   "cell_type": "code",
   "execution_count": 39,
   "id": "143fbdeb",
   "metadata": {
    "scrolled": true
   },
   "outputs": [
    {
     "data": {
      "text/html": [
       "<div>\n",
       "<style scoped>\n",
       "    .dataframe tbody tr th:only-of-type {\n",
       "        vertical-align: middle;\n",
       "    }\n",
       "\n",
       "    .dataframe tbody tr th {\n",
       "        vertical-align: top;\n",
       "    }\n",
       "\n",
       "    .dataframe thead th {\n",
       "        text-align: right;\n",
       "    }\n",
       "</style>\n",
       "<table border=\"1\" class=\"dataframe\">\n",
       "  <thead>\n",
       "    <tr style=\"text-align: right;\">\n",
       "      <th></th>\n",
       "      <th>submission_date</th>\n",
       "      <th>state</th>\n",
       "      <th>tot_cases</th>\n",
       "      <th>conf_cases</th>\n",
       "      <th>prob_cases</th>\n",
       "      <th>new_case</th>\n",
       "      <th>pnew_case</th>\n",
       "      <th>tot_death</th>\n",
       "      <th>conf_death</th>\n",
       "      <th>prob_death</th>\n",
       "      <th>new_death</th>\n",
       "      <th>pnew_death</th>\n",
       "      <th>created_at</th>\n",
       "      <th>consent_cases</th>\n",
       "      <th>consent_deaths</th>\n",
       "    </tr>\n",
       "  </thead>\n",
       "  <tbody>\n",
       "    <tr>\n",
       "      <th>505</th>\n",
       "      <td>06/11/2020</td>\n",
       "      <td>GU</td>\n",
       "      <td>182</td>\n",
       "      <td>NaN</td>\n",
       "      <td>NaN</td>\n",
       "      <td>-1</td>\n",
       "      <td>0.0</td>\n",
       "      <td>5</td>\n",
       "      <td>NaN</td>\n",
       "      <td>NaN</td>\n",
       "      <td>0</td>\n",
       "      <td>0.0</td>\n",
       "      <td>06/12/2020 02:17:59 PM</td>\n",
       "      <td>Not agree</td>\n",
       "      <td>Not agree</td>\n",
       "    </tr>\n",
       "    <tr>\n",
       "      <th>600</th>\n",
       "      <td>06/17/2021</td>\n",
       "      <td>NE</td>\n",
       "      <td>223973</td>\n",
       "      <td>NaN</td>\n",
       "      <td>NaN</td>\n",
       "      <td>-157</td>\n",
       "      <td>0.0</td>\n",
       "      <td>2258</td>\n",
       "      <td>NaN</td>\n",
       "      <td>NaN</td>\n",
       "      <td>0</td>\n",
       "      <td>0.0</td>\n",
       "      <td>06/17/2021 12:00:00 AM</td>\n",
       "      <td>Not agree</td>\n",
       "      <td>Not agree</td>\n",
       "    </tr>\n",
       "  </tbody>\n",
       "</table>\n",
       "</div>"
      ],
      "text/plain": [
       "    submission_date state  tot_cases  conf_cases  prob_cases  new_case  \\\n",
       "505      06/11/2020    GU        182         NaN         NaN        -1   \n",
       "600      06/17/2021    NE     223973         NaN         NaN      -157   \n",
       "\n",
       "     pnew_case  tot_death  conf_death  prob_death  new_death  pnew_death  \\\n",
       "505        0.0          5         NaN         NaN          0         0.0   \n",
       "600        0.0       2258         NaN         NaN          0         0.0   \n",
       "\n",
       "                 created_at consent_cases consent_deaths  \n",
       "505  06/12/2020 02:17:59 PM     Not agree      Not agree  \n",
       "600  06/17/2021 12:00:00 AM     Not agree      Not agree  "
      ]
     },
     "execution_count": 39,
     "metadata": {},
     "output_type": "execute_result"
    }
   ],
   "source": [
    "us_covid.query('new_case < 0').head(2)"
   ]
  },
  {
   "cell_type": "markdown",
   "id": "4868e669",
   "metadata": {},
   "source": [
    "> I think we will get a better understanding of this once we set the datatype for `submission_date` that way we are able to order the data and see if the `tot_cases` reduces when ever we have negative `new_case`. "
   ]
  },
  {
   "cell_type": "markdown",
   "id": "56f1bde0",
   "metadata": {},
   "source": [
    "### `states` accessing"
   ]
  },
  {
   "cell_type": "code",
   "execution_count": 18,
   "id": "d15ff7cc",
   "metadata": {},
   "outputs": [
    {
     "name": "stdout",
     "output_type": "stream",
     "text": [
      "<class 'pandas.core.frame.DataFrame'>\n",
      "RangeIndex: 50 entries, 0 to 49\n",
      "Data columns (total 4 columns):\n",
      " #   Column           Non-Null Count  Dtype \n",
      "---  ------           --------------  ----- \n",
      " 0   capital_city     50 non-null     object\n",
      " 1   state            50 non-null     object\n",
      " 2   state_full_name  50 non-null     object\n",
      " 3   zip_code         50 non-null     object\n",
      "dtypes: object(4)\n",
      "memory usage: 1.7+ KB\n"
     ]
    }
   ],
   "source": [
    "states.info()"
   ]
  },
  {
   "cell_type": "markdown",
   "id": "7c4f9c04",
   "metadata": {},
   "source": [
    "Has all the 50 states, their names and their capital city, I don't see anything wrong with this dataset."
   ]
  },
  {
   "cell_type": "markdown",
   "id": "a222b72d",
   "metadata": {},
   "source": [
    "### `weather_data` accessing"
   ]
  },
  {
   "cell_type": "code",
   "execution_count": 19,
   "id": "19ec51be",
   "metadata": {
    "scrolled": true
   },
   "outputs": [
    {
     "name": "stdout",
     "output_type": "stream",
     "text": [
      "<class 'pandas.core.frame.DataFrame'>\n",
      "RangeIndex: 39465 entries, 0 to 39464\n",
      "Data columns (total 35 columns):\n",
      " #   Column           Non-Null Count  Dtype  \n",
      "---  ------           --------------  -----  \n",
      " 0   state            39465 non-null  object \n",
      " 1   rh               39465 non-null  float64\n",
      " 2   max_wind_spd_ts  39465 non-null  int64  \n",
      " 3   t_ghi            39465 non-null  float64\n",
      " 4   max_wind_spd     39465 non-null  float64\n",
      " 5   solar_rad        39465 non-null  float64\n",
      " 6   wind_gust_spd    39465 non-null  float64\n",
      " 7   max_temp_ts      39465 non-null  int64  \n",
      " 8   min_temp_ts      39465 non-null  int64  \n",
      " 9   clouds           39465 non-null  int64  \n",
      " 10  max_dni          39465 non-null  float64\n",
      " 11  precip_gpm       39465 non-null  float64\n",
      " 12  wind_spd         39465 non-null  float64\n",
      " 13  slp              39454 non-null  float64\n",
      " 14  ts               39465 non-null  int64  \n",
      " 15  max_ghi          39465 non-null  float64\n",
      " 16  temp             39465 non-null  float64\n",
      " 17  pres             39447 non-null  float64\n",
      " 18  dni              39465 non-null  float64\n",
      " 19  dewpt            39465 non-null  float64\n",
      " 20  snow             39465 non-null  float64\n",
      " 21  dhi              39465 non-null  float64\n",
      " 22  precip           39465 non-null  float64\n",
      " 23  wind_dir         39454 non-null  float64\n",
      " 24  max_dhi          39465 non-null  float64\n",
      " 25  ghi              39465 non-null  float64\n",
      " 26  max_temp         39465 non-null  float64\n",
      " 27  t_dni            39465 non-null  float64\n",
      " 28  max_uv           39465 non-null  float64\n",
      " 29  t_dhi            39465 non-null  float64\n",
      " 30  datetime         39465 non-null  object \n",
      " 31  t_solar_rad      39465 non-null  float64\n",
      " 32  min_temp         39465 non-null  float64\n",
      " 33  max_wind_dir     39454 non-null  float64\n",
      " 34  snow_depth       28303 non-null  float64\n",
      "dtypes: float64(28), int64(5), object(2)\n",
      "memory usage: 10.5+ MB\n"
     ]
    }
   ],
   "source": [
    "weather_data.info()"
   ]
  },
  {
   "cell_type": "markdown",
   "id": "e6976dd1",
   "metadata": {},
   "source": [
    "#### Data description \n",
    "We would be droping some of the columns to just the few that we really need.\n",
    "* datetime: Date (YYYY-MM-DD).\n",
    "* ts: Timestamp UTC (Unix Timestamp).\n",
    "* pres: Average pressure (mb).\n",
    "* slp: Average sea level pressure (mb).\n",
    "* wind_spd: Average wind speed (Default m/s).\n",
    "* wind_gust_spd: Wind gust speed (m/s).\n",
    "* max_wind_spd: Maximum 2 minute wind speed (m/s).\n",
    "* wind_dir: Average wind direction (degrees).\n",
    "* max_wind_dir: Direction of maximum 2 minute wind gust (degrees).\n",
    "* max_wind_ts: Time of maximum wind gust UTC (Unix Timestamp).\n",
    "* temp: Average temperature (default Celcius).\n",
    "* max_temp: Maximum temperature (default Celcius).\n",
    "* min_temp: Minimum temperature (default Celcius).\n",
    "* max_temp_ts: Time of daily maximum temperature UTC (Unix Timestamp).\n",
    "* min_temp_ts: Time of daily minimum temperature UTC (Unix Timestamp).\n",
    "* rh: Average relative humidity (%).\n",
    "* dewpt: Average dew point (default Celcius).\n",
    "* clouds: [Satellite based] average cloud coverage (%).\n",
    "* precip: Accumulated precipitation (default mm).\n",
    "* precip_gpm: Accumulated precipitation [satellite/radar estimated] (default mm).\n",
    "* snow: Accumulated snowfall (default mm).\n",
    "* snow_depth: Snow Depth (default mm).\n",
    "* solar_rad: Average solar radiation (W/M^2)\n",
    "* t_solar_rad: Total solar radiation (W/M^2)\n",
    "* ghi: Average global horizontal solar irradiance (W/m^2).\n",
    "* t_ghi: Day total global horizontal solar irradiance (W/m^2) [Clear Sky]\n",
    "* max_ghi: Maximum value of global horizontal solar irradiance in day (W/m^2) [Clear Sky]\n",
    "* dni: Average direct normal solar irradiance (W/m^2) [Clear Sky]\n",
    "* t_dni: Day total direct normal solar irradiance (W/m^2) [Clear Sky]\n",
    "* max_dni: Maximum value of direct normal solar irradiance in day (W/m^2) [Clear Sky]\n",
    "* dhi: Average diffuse horizontal solar irradiance (W/m^2) [Clear Sky]\n",
    "* t_dhi: Day total diffuse horizontal solar irradiance (W/m^2) [Clear Sky]\n",
    "* max_dhi: Maximum value of diffuse horizontal solar irradiance in day (W/m^2) [Clear Sky]\n",
    "* max_uv: Maximum UV Index (0-11+)\n",
    "* state: Abbreviations of US states\n",
    "\n",
    "Inconsistent datatype:\n",
    "* `datetime`: object instead of datetime."
   ]
  },
  {
   "cell_type": "markdown",
   "id": "176abd81",
   "metadata": {},
   "source": [
    "## Cleaning Data"
   ]
  },
  {
   "cell_type": "markdown",
   "id": "edb4bda3",
   "metadata": {},
   "source": [
    "### Inconsistent datatypes (us_covid)\n",
    "In `us_covid`\n",
    "* `submission_data` and `created_at`: object instead of datetime\n",
    "* `conf_cases`, `prob_cases`, `pnew_case`, `conf_death`, `prob_death`, `pnew_death`: float instead of int. This would be because pandas int type has not representation of `np.nan` so the best alternative float type is used."
   ]
  },
  {
   "cell_type": "code",
   "execution_count": 40,
   "id": "59a09c4e",
   "metadata": {},
   "outputs": [],
   "source": [
    "# Converting datetime columns to datetime\n",
    "us_covid['submission_date'] = pd.to_datetime(us_covid['submission_date'])\n",
    "us_covid['created_at'] = pd.to_datetime(us_covid['created_at'])"
   ]
  },
  {
   "cell_type": "code",
   "execution_count": 41,
   "id": "019efb87",
   "metadata": {},
   "outputs": [
    {
     "data": {
      "text/html": [
       "<div>\n",
       "<style scoped>\n",
       "    .dataframe tbody tr th:only-of-type {\n",
       "        vertical-align: middle;\n",
       "    }\n",
       "\n",
       "    .dataframe tbody tr th {\n",
       "        vertical-align: top;\n",
       "    }\n",
       "\n",
       "    .dataframe thead th {\n",
       "        text-align: right;\n",
       "    }\n",
       "</style>\n",
       "<table border=\"1\" class=\"dataframe\">\n",
       "  <thead>\n",
       "    <tr style=\"text-align: right;\">\n",
       "      <th></th>\n",
       "      <th>submission_date</th>\n",
       "      <th>state</th>\n",
       "      <th>tot_cases</th>\n",
       "      <th>conf_cases</th>\n",
       "      <th>new_case</th>\n",
       "      <th>tot_death</th>\n",
       "      <th>conf_death</th>\n",
       "      <th>new_death</th>\n",
       "    </tr>\n",
       "  </thead>\n",
       "  <tbody>\n",
       "    <tr>\n",
       "      <th>0</th>\n",
       "      <td>2021-12-01</td>\n",
       "      <td>ND</td>\n",
       "      <td>163565</td>\n",
       "      <td>135705</td>\n",
       "      <td>589</td>\n",
       "      <td>1907</td>\n",
       "      <td>0</td>\n",
       "      <td>9</td>\n",
       "    </tr>\n",
       "    <tr>\n",
       "      <th>1</th>\n",
       "      <td>2020-08-17</td>\n",
       "      <td>MD</td>\n",
       "      <td>100715</td>\n",
       "      <td>0</td>\n",
       "      <td>503</td>\n",
       "      <td>3765</td>\n",
       "      <td>3616</td>\n",
       "      <td>3</td>\n",
       "    </tr>\n",
       "    <tr>\n",
       "      <th>2</th>\n",
       "      <td>2021-05-31</td>\n",
       "      <td>CA</td>\n",
       "      <td>3685032</td>\n",
       "      <td>3685032</td>\n",
       "      <td>644</td>\n",
       "      <td>62011</td>\n",
       "      <td>62011</td>\n",
       "      <td>5</td>\n",
       "    </tr>\n",
       "    <tr>\n",
       "      <th>3</th>\n",
       "      <td>2021-07-20</td>\n",
       "      <td>MD</td>\n",
       "      <td>464491</td>\n",
       "      <td>0</td>\n",
       "      <td>155</td>\n",
       "      <td>9822</td>\n",
       "      <td>9604</td>\n",
       "      <td>3</td>\n",
       "    </tr>\n",
       "    <tr>\n",
       "      <th>4</th>\n",
       "      <td>2020-02-06</td>\n",
       "      <td>NE</td>\n",
       "      <td>0</td>\n",
       "      <td>0</td>\n",
       "      <td>0</td>\n",
       "      <td>0</td>\n",
       "      <td>0</td>\n",
       "      <td>0</td>\n",
       "    </tr>\n",
       "  </tbody>\n",
       "</table>\n",
       "</div>"
      ],
      "text/plain": [
       "  submission_date state  tot_cases  conf_cases  new_case  tot_death  \\\n",
       "0      2021-12-01    ND     163565      135705       589       1907   \n",
       "1      2020-08-17    MD     100715           0       503       3765   \n",
       "2      2021-05-31    CA    3685032     3685032       644      62011   \n",
       "3      2021-07-20    MD     464491           0       155       9822   \n",
       "4      2020-02-06    NE          0           0         0          0   \n",
       "\n",
       "   conf_death  new_death  \n",
       "0           0          9  \n",
       "1        3616          3  \n",
       "2       62011          5  \n",
       "3        9604          3  \n",
       "4           0          0  "
      ]
     },
     "execution_count": 41,
     "metadata": {},
     "output_type": "execute_result"
    }
   ],
   "source": [
    "# We want to drop some columns that we don't need and focus on the few that we do need.\n",
    "important_columns = ['submission_date', 'state', 'tot_cases', 'conf_cases', \n",
    "                     'new_case', 'tot_death', 'conf_death', 'new_death']\n",
    "us_covid = us_covid[important_columns]\n",
    "\n",
    "# For the places where we have NaN, we want to fill with 0\n",
    "us_covid.fillna(0, inplace=True)\n",
    "\n",
    "# Then we change the datatypes of conf_cases, and conf_death to integer\n",
    "us_covid['conf_cases'] = us_covid['conf_cases'].astype('int')\n",
    "us_covid['conf_death'] = us_covid['conf_death'].astype('int')\n",
    "\n",
    "us_covid.head()"
   ]
  },
  {
   "cell_type": "code",
   "execution_count": 42,
   "id": "2a7ad07e",
   "metadata": {
    "scrolled": false
   },
   "outputs": [
    {
     "name": "stdout",
     "output_type": "stream",
     "text": [
      "<class 'pandas.core.frame.DataFrame'>\n",
      "RangeIndex: 46140 entries, 0 to 46139\n",
      "Data columns (total 8 columns):\n",
      " #   Column           Non-Null Count  Dtype         \n",
      "---  ------           --------------  -----         \n",
      " 0   submission_date  46140 non-null  datetime64[ns]\n",
      " 1   state            46140 non-null  object        \n",
      " 2   tot_cases        46140 non-null  int64         \n",
      " 3   conf_cases       46140 non-null  int64         \n",
      " 4   new_case         46140 non-null  int64         \n",
      " 5   tot_death        46140 non-null  int64         \n",
      " 6   conf_death       46140 non-null  int64         \n",
      " 7   new_death        46140 non-null  int64         \n",
      "dtypes: datetime64[ns](1), int64(6), object(1)\n",
      "memory usage: 2.8+ MB\n"
     ]
    }
   ],
   "source": [
    "us_covid.info()"
   ]
  },
  {
   "cell_type": "code",
   "execution_count": 49,
   "id": "02cf361c",
   "metadata": {},
   "outputs": [],
   "source": [
    "# Get main us states\n",
    "us_covid = us_covid.query('state in @us_states')"
   ]
  },
  {
   "cell_type": "markdown",
   "id": "0350d61c",
   "metadata": {},
   "source": [
    "### Too many columns  (weather_data)"
   ]
  },
  {
   "cell_type": "code",
   "execution_count": 23,
   "id": "781648b6",
   "metadata": {},
   "outputs": [
    {
     "data": {
      "text/html": [
       "<div>\n",
       "<style scoped>\n",
       "    .dataframe tbody tr th:only-of-type {\n",
       "        vertical-align: middle;\n",
       "    }\n",
       "\n",
       "    .dataframe tbody tr th {\n",
       "        vertical-align: top;\n",
       "    }\n",
       "\n",
       "    .dataframe thead th {\n",
       "        text-align: right;\n",
       "    }\n",
       "</style>\n",
       "<table border=\"1\" class=\"dataframe\">\n",
       "  <thead>\n",
       "    <tr style=\"text-align: right;\">\n",
       "      <th></th>\n",
       "      <th>state</th>\n",
       "      <th>datetime</th>\n",
       "      <th>pres</th>\n",
       "      <th>wind_spd</th>\n",
       "      <th>wind_dir</th>\n",
       "      <th>temp</th>\n",
       "      <th>rh</th>\n",
       "      <th>dewpt</th>\n",
       "      <th>clouds</th>\n",
       "      <th>precip</th>\n",
       "      <th>snow</th>\n",
       "      <th>solar_rad</th>\n",
       "    </tr>\n",
       "  </thead>\n",
       "  <tbody>\n",
       "    <tr>\n",
       "      <th>0</th>\n",
       "      <td>AL</td>\n",
       "      <td>2021-12-20</td>\n",
       "      <td>1015.1</td>\n",
       "      <td>3.0</td>\n",
       "      <td>116.0</td>\n",
       "      <td>6.8</td>\n",
       "      <td>77.5</td>\n",
       "      <td>2.6</td>\n",
       "      <td>100</td>\n",
       "      <td>0.0</td>\n",
       "      <td>0.0</td>\n",
       "      <td>32.9</td>\n",
       "    </tr>\n",
       "    <tr>\n",
       "      <th>1</th>\n",
       "      <td>AL</td>\n",
       "      <td>2021-12-21</td>\n",
       "      <td>1008.9</td>\n",
       "      <td>2.8</td>\n",
       "      <td>154.0</td>\n",
       "      <td>8.1</td>\n",
       "      <td>88.0</td>\n",
       "      <td>3.9</td>\n",
       "      <td>89</td>\n",
       "      <td>12.5</td>\n",
       "      <td>0.0</td>\n",
       "      <td>29.4</td>\n",
       "    </tr>\n",
       "    <tr>\n",
       "      <th>2</th>\n",
       "      <td>AL</td>\n",
       "      <td>2021-12-22</td>\n",
       "      <td>1011.1</td>\n",
       "      <td>2.7</td>\n",
       "      <td>288.0</td>\n",
       "      <td>8.0</td>\n",
       "      <td>67.4</td>\n",
       "      <td>1.3</td>\n",
       "      <td>3</td>\n",
       "      <td>0.0</td>\n",
       "      <td>0.0</td>\n",
       "      <td>142.2</td>\n",
       "    </tr>\n",
       "    <tr>\n",
       "      <th>3</th>\n",
       "      <td>AL</td>\n",
       "      <td>2021-12-23</td>\n",
       "      <td>1016.1</td>\n",
       "      <td>2.0</td>\n",
       "      <td>119.0</td>\n",
       "      <td>7.2</td>\n",
       "      <td>68.9</td>\n",
       "      <td>0.7</td>\n",
       "      <td>18</td>\n",
       "      <td>0.0</td>\n",
       "      <td>0.0</td>\n",
       "      <td>142.3</td>\n",
       "    </tr>\n",
       "    <tr>\n",
       "      <th>4</th>\n",
       "      <td>AL</td>\n",
       "      <td>2021-12-24</td>\n",
       "      <td>1013.4</td>\n",
       "      <td>3.1</td>\n",
       "      <td>225.0</td>\n",
       "      <td>10.4</td>\n",
       "      <td>74.7</td>\n",
       "      <td>6.9</td>\n",
       "      <td>22</td>\n",
       "      <td>0.0</td>\n",
       "      <td>0.0</td>\n",
       "      <td>126.6</td>\n",
       "    </tr>\n",
       "  </tbody>\n",
       "</table>\n",
       "</div>"
      ],
      "text/plain": [
       "  state    datetime    pres  wind_spd  wind_dir  temp    rh  dewpt  clouds  \\\n",
       "0    AL  2021-12-20  1015.1       3.0     116.0   6.8  77.5    2.6     100   \n",
       "1    AL  2021-12-21  1008.9       2.8     154.0   8.1  88.0    3.9      89   \n",
       "2    AL  2021-12-22  1011.1       2.7     288.0   8.0  67.4    1.3       3   \n",
       "3    AL  2021-12-23  1016.1       2.0     119.0   7.2  68.9    0.7      18   \n",
       "4    AL  2021-12-24  1013.4       3.1     225.0  10.4  74.7    6.9      22   \n",
       "\n",
       "   precip  snow  solar_rad  \n",
       "0     0.0   0.0       32.9  \n",
       "1    12.5   0.0       29.4  \n",
       "2     0.0   0.0      142.2  \n",
       "3     0.0   0.0      142.3  \n",
       "4     0.0   0.0      126.6  "
      ]
     },
     "execution_count": 23,
     "metadata": {},
     "output_type": "execute_result"
    }
   ],
   "source": [
    "# We want to work with just a few of the columns\n",
    "important_w_columns = ['state', 'datetime', 'pres', 'wind_spd', 'wind_dir', 'temp', 'rh', 'dewpt',\n",
    "                       'clouds', 'precip', 'snow', 'solar_rad']\n",
    "\n",
    "weather_data = weather_data[important_w_columns]\n",
    "weather_data.head()"
   ]
  },
  {
   "cell_type": "markdown",
   "id": "a408465b",
   "metadata": {},
   "source": [
    "#### Data description \n",
    "* `state`: Abbreviations of US states\n",
    "* `datetime`: Date (YYYY-MM-DD).\n",
    "* `pres`: Average pressure (mb).\n",
    "* `wind_spd`: Average wind speed (Default m/s).\n",
    "* `wind_dir`: Average wind direction (degrees).\n",
    "* `temp`: Average temperature (default Celcius).\n",
    "* `rh`: Average relative humidity (%).\n",
    "* `dewpt`: Average dew point (default Celcius).\n",
    "* `clouds`: [Satellite based] average cloud coverage (%).\n",
    "* `precip`: Accumulated precipitation (default mm).\n",
    "* `snow`: Accumulated snowfall (default mm).\n",
    "* `solar_rad`: Average solar radiation (W/M^2)"
   ]
  },
  {
   "cell_type": "markdown",
   "id": "688a9a15",
   "metadata": {},
   "source": [
    "### Inconsistent data type  (weather_data)"
   ]
  },
  {
   "cell_type": "code",
   "execution_count": 24,
   "id": "ff08790b",
   "metadata": {},
   "outputs": [],
   "source": [
    "weather_data['datetime'] = pd.to_datetime(weather_data['datetime'])"
   ]
  },
  {
   "cell_type": "code",
   "execution_count": 25,
   "id": "90a6320e",
   "metadata": {
    "scrolled": true
   },
   "outputs": [
    {
     "name": "stdout",
     "output_type": "stream",
     "text": [
      "<class 'pandas.core.frame.DataFrame'>\n",
      "RangeIndex: 39465 entries, 0 to 39464\n",
      "Data columns (total 12 columns):\n",
      " #   Column     Non-Null Count  Dtype         \n",
      "---  ------     --------------  -----         \n",
      " 0   state      39465 non-null  object        \n",
      " 1   datetime   39465 non-null  datetime64[ns]\n",
      " 2   pres       39447 non-null  float64       \n",
      " 3   wind_spd   39465 non-null  float64       \n",
      " 4   wind_dir   39454 non-null  float64       \n",
      " 5   temp       39465 non-null  float64       \n",
      " 6   rh         39465 non-null  float64       \n",
      " 7   dewpt      39465 non-null  float64       \n",
      " 8   clouds     39465 non-null  int64         \n",
      " 9   precip     39465 non-null  float64       \n",
      " 10  snow       39465 non-null  float64       \n",
      " 11  solar_rad  39465 non-null  float64       \n",
      "dtypes: datetime64[ns](1), float64(9), int64(1), object(1)\n",
      "memory usage: 3.6+ MB\n"
     ]
    }
   ],
   "source": [
    "weather_data.info()"
   ]
  },
  {
   "cell_type": "markdown",
   "id": "b1968005",
   "metadata": {},
   "source": [
    "## Export cleaned data"
   ]
  },
  {
   "cell_type": "code",
   "execution_count": 50,
   "id": "5f5c0ed7",
   "metadata": {},
   "outputs": [],
   "source": [
    "# Saving US covid data to csv\n",
    "us_covid.to_csv('us_covid_cleaned.csv', index=False)"
   ]
  },
  {
   "cell_type": "code",
   "execution_count": 27,
   "id": "91781b17",
   "metadata": {},
   "outputs": [],
   "source": [
    "# Saving US states data to csv\n",
    "states.to_csv('us_states_cleaned.csv', index=False)"
   ]
  },
  {
   "cell_type": "code",
   "execution_count": 28,
   "id": "7a1cdcf8",
   "metadata": {},
   "outputs": [],
   "source": [
    "# Saving weather data to csv\n",
    "weather_data.to_csv('weather_cleaned.csv', index=False)"
   ]
  },
  {
   "cell_type": "markdown",
   "id": "ac78b6de",
   "metadata": {},
   "source": [
    "> Now we head on to tableau to find insights and build dashboard"
   ]
  },
  {
   "cell_type": "code",
   "execution_count": null,
   "id": "498c2426",
   "metadata": {},
   "outputs": [],
   "source": []
  },
  {
   "cell_type": "code",
   "execution_count": null,
   "id": "0bb81e65",
   "metadata": {},
   "outputs": [],
   "source": []
  },
  {
   "cell_type": "code",
   "execution_count": null,
   "id": "737e38b0",
   "metadata": {},
   "outputs": [],
   "source": []
  },
  {
   "cell_type": "code",
   "execution_count": null,
   "id": "8f2fd58e",
   "metadata": {},
   "outputs": [],
   "source": []
  },
  {
   "cell_type": "code",
   "execution_count": null,
   "id": "45276a50",
   "metadata": {},
   "outputs": [],
   "source": []
  },
  {
   "cell_type": "code",
   "execution_count": 53,
   "id": "a249e60a",
   "metadata": {
    "scrolled": true
   },
   "outputs": [],
   "source": [
    "# start_date = datetime.date.fromisoformat('2022-01-01')\n",
    "# end_date = start_date + datetime.timedelta(days=1)\n",
    "\n",
    "# for zip_code in zip_codes:\n",
    "#     print(zip_code)\n",
    "    \n",
    "#     url = weather_url.format(api_key=api_key, \n",
    "#                              postal_code=zip_code, \n",
    "#                              start_date=start_date, \n",
    "#                              end_date=end_date)\n",
    "\n",
    "#     response = requests.get(url)\n",
    "\n",
    "#     if response.status_code == 200:\n",
    "#         response = response.json()\n",
    "#         us_lat_lon[response['state_code']] = {'lat':response['lat'], 'lon':response['lon']}\n",
    "#     else:\n",
    "#         raise Exception(response.text)"
   ]
  },
  {
   "cell_type": "code",
   "execution_count": null,
   "id": "f3c3d7fd",
   "metadata": {},
   "outputs": [],
   "source": []
  }
 ],
 "metadata": {
  "kernelspec": {
   "display_name": "Python 3",
   "language": "python",
   "name": "python3"
  },
  "language_info": {
   "codemirror_mode": {
    "name": "ipython",
    "version": 3
   },
   "file_extension": ".py",
   "mimetype": "text/x-python",
   "name": "python",
   "nbconvert_exporter": "python",
   "pygments_lexer": "ipython3",
   "version": "3.9.7"
  }
 },
 "nbformat": 4,
 "nbformat_minor": 5
}
